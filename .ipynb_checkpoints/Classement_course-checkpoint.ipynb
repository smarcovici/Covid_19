{
 "cells": [
  {
   "cell_type": "code",
   "execution_count": 1,
   "metadata": {},
   "outputs": [
    {
     "ename": "SyntaxError",
     "evalue": "(unicode error) 'unicodeescape' codec can't decode bytes in position 10-11: truncated \\uXXXX escape (<ipython-input-1-93db89221022>, line 19)",
     "output_type": "error",
     "traceback": [
      "\u001b[1;36m  File \u001b[1;32m\"<ipython-input-1-93db89221022>\"\u001b[1;36m, line \u001b[1;32m19\u001b[0m\n\u001b[1;33m    cl202003volvic = pd.read_csv('c:\\windows\\utilisateurs\\Sylvain\\Documents\\perso\\sport\\resultatcsv\\2020volvic.csv',sep = ';')\u001b[0m\n\u001b[1;37m                                ^\u001b[0m\n\u001b[1;31mSyntaxError\u001b[0m\u001b[1;31m:\u001b[0m (unicode error) 'unicodeescape' codec can't decode bytes in position 10-11: truncated \\uXXXX escape\n"
     ]
    }
   ],
   "source": [
    "from matplotlib import pyplot\n",
    "import matplotlib\n",
    "import math\n",
    "import sklearn.metrics as sm\n",
    "from sklearn.cluster import KMeans\n",
    "from sklearn import datasets\n",
    "import numpy as np\n",
    "from scipy import stats\n",
    "import pandas as pd\n",
    "import ipywidgets as widgets\n",
    "from ipywidgets import interact\n",
    "import datetime\n",
    "# Importation des librairies pour l'analyse des composantes principales\n",
    "from sklearn import datasets\n",
    "from sklearn import decomposition\n",
    "from sklearn.linear_model import LinearRegression\n",
    "import statsmodels.api as sm\n",
    "## Importation des données sous forme de dataframe ##\n",
    "cl202003volvic = pd.read_csv('c:\\windows\\utilisateurs\\Sylvain\\Documents\\perso\\sport\\resultatcsv\\2020volvic.csv',sep = ';')\n",
    "\n",
    "#DonneesTestsViro = DonneesTestsViro.dropna(how = 'any') # suppression des lignes avec NaN"
   ]
  },
  {
   "cell_type": "code",
   "execution_count": null,
   "metadata": {},
   "outputs": [],
   "source": []
  }
 ],
 "metadata": {
  "kernelspec": {
   "display_name": "Python 3",
   "language": "python",
   "name": "python3"
  },
  "language_info": {
   "codemirror_mode": {
    "name": "ipython",
    "version": 3
   },
   "file_extension": ".py",
   "mimetype": "text/x-python",
   "name": "python",
   "nbconvert_exporter": "python",
   "pygments_lexer": "ipython3",
   "version": "3.7.3"
  }
 },
 "nbformat": 4,
 "nbformat_minor": 2
}
